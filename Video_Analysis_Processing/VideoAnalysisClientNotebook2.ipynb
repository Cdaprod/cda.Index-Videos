{
 "cells": [
  {
   "cell_type": "markdown",
   "id": "bb5fb503",
   "metadata": {},
   "source": [
    "# Video Analysis Client Notebook\n",
    "This notebook acts as the controller for video analysis."
   ]
  },
  {
   "cell_type": "code",
   "execution_count": null,
   "id": "2cf6fe5e",
   "metadata": {},
   "outputs": [],
   "source": [
    "# Import required libraries\n",
    "import requests\n",
    "import json\n",
    "import os"
   ]
  },
  {
   "cell_type": "code",
   "execution_count": null,
   "id": "6f3c066c",
   "metadata": {},
   "outputs": [],
   "source": [
    "# Function to make API call to Flask server for video analysis\n",
    "def analyze_video(api_url, video_index):\n",
    "    response = requests.get(f'{api_url}/api/v1/videos/{video_index}')\n",
    "    if response.status_code == 200:\n",
    "        return response.json()\n",
    "    else:\n",
    "        return {'error': 'Failed to analyze video'}"
   ]
  },
  {
   "cell_type": "code",
   "execution_count": null,
   "id": "45466004",
   "metadata": {},
   "outputs": [],
   "source": [
    "# Function to extract metadata from analyzed video\n",
    "def extract_metadata(analyzed_video):\n",
    "    # Your code to extract metadata\n",
    "    pass"
   ]
  },
  {
   "cell_type": "code",
   "execution_count": null,
   "id": "64a16104",
   "metadata": {},
   "outputs": [],
   "source": [
    "# Function to extract frames from analyzed video\n",
    "def extract_frames(analyzed_video):\n",
    "    # Your code to extract frames\n",
    "    pass"
   ]
  },
  {
   "cell_type": "code",
   "execution_count": null,
   "id": "4f3e3fd8",
   "metadata": {},
   "outputs": [],
   "source": [
    "# Main Controller\n",
    "api_url = 'http://your_flask_server_address_here'\n",
    "video_index = 1  # Replace with actual video index\n",
    "\n",
    "# Analyze Video\n",
    "analyzed_video = analyze_video(api_url, video_index)\n",
    "\n",
    "# Extract Metadata\n",
    "extract_metadata(analyzed_video)\n",
    "\n",
    "# Extract Frames\n",
    "extract_frames(analyzed_video)"
   ]
  }
 ],
 "metadata": {
  "author": "David Cannan",
  "title": "VideoAnalysisClientNotebook"
 },
 "nbformat": 4,
 "nbformat_minor": 5
}
