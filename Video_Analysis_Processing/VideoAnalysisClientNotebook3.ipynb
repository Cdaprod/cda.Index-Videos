{
 "cells": [
  {
   "cell_type": "markdown",
   "id": "e0155ede",
   "metadata": {},
   "source": [
    "## Video Analysis Client Notebook"
   ]
  },
  {
   "cell_type": "code",
   "execution_count": null,
   "id": "b3df6803",
   "metadata": {},
   "outputs": [],
   "source": [
    "import pandas as pd"
   ]
  },
  {
   "cell_type": "code",
   "execution_count": null,
   "id": "64def58b",
   "metadata": {},
   "outputs": [],
   "source": [
    "\n",
    "# Define classes and types here\n",
    "class VideoMetadata:\n",
    "    def __init__(self, video_id, title, duration, tags):\n",
    "        self.video_id = video_id\n",
    "        self.title = title\n",
    "        self.duration = duration\n",
    "        self.tags = tags\n",
    "\n",
    "# Define DataFrame for handling data\n",
    "video_data = pd.DataFrame(columns=['video_id', 'title', 'duration', 'tags'])\n"
   ]
  },
  {
   "cell_type": "code",
   "execution_count": null,
   "id": "9d7d38e0",
   "metadata": {},
   "outputs": [],
   "source": [
    "\n",
    "# Function to commit data to Weaviate\n",
    "def df_data_to_Weaviate(df):\n",
    "    # TODO: Implement this function\n",
    "    pass\n",
    "\n",
    "# Function to commit data to Postgres\n",
    "def df_data_to_Postgres(df):\n",
    "    # TODO: Implement this function\n",
    "    pass\n"
   ]
  },
  {
   "cell_type": "code",
   "execution_count": null,
   "id": "4c3d27af",
   "metadata": {},
   "outputs": [],
   "source": [
    "\n",
    "# Define the database schema and types\n",
    "\n",
    "# For the table 'indexed_videos'\n",
    "class IndexedVideo:\n",
    "    def __init__(self, filename=None, ID=None, src_path=None, type=None):\n",
    "        self.filename = filename\n",
    "        self.ID = ID\n",
    "        self.src_path = src_path\n",
    "        self.type = type\n",
    "\n",
    "# For the table 'Videos'\n",
    "class Video:\n",
    "    def __init__(self, category=None, creator=None, description=None, file_size=None, \n",
    "                 filename=None, frame_rate=None, frame_src_path=None, gpt3_embeddings=None, \n",
    "                 has_audio=None, index_number=None, keywords=None, original_resolution=None, \n",
    "                 resnet50_embeddings=None, src_path=None, summary=None, type=None):\n",
    "        self.category = category\n",
    "        self.creator = creator\n",
    "        self.description = description\n",
    "        self.file_size = file_size\n",
    "        self.filename = filename\n",
    "        self.frame_rate = frame_rate\n",
    "        self.frame_src_path = frame_src_path\n",
    "        self.gpt3_embeddings = gpt3_embeddings\n",
    "        self.has_audio = has_audio\n",
    "        self.index_number = index_number\n",
    "        self.keywords = keywords\n",
    "        self.original_resolution = original_resolution\n",
    "        self.resnet50_embeddings = resnet50_embeddings\n",
    "        self.src_path = src_path\n",
    "        self.summary = summary\n",
    "        self.type = type\n",
    "\n",
    "# Create DataFrames based on these classes\n",
    "indexed_videos_df = pd.DataFrame(columns=['filename', 'ID', 'src_path', 'type'])\n",
    "videos_df = pd.DataFrame(columns=[\n",
    "    'category', 'creator', 'description', 'file_size', 'filename', 'frame_rate', \n",
    "    'frame_src_path', 'gpt3_embeddings', 'has_audio', 'index_number', 'keywords',\n",
    "    'original_resolution', 'resnet50_embeddings', 'src_path', 'summary', 'type'\n",
    "])\n"
   ]
  },
  {
   "cell_type": "code",
   "execution_count": null,
   "id": "7fcc083a",
   "metadata": {},
   "outputs": [],
   "source": [
    "\n",
    "# Function to transfer data to Weaviate\n",
    "def df_data_to_weaviate(df):\n",
    "    # TODO: Implement the logic to transfer data to Weaviate\n",
    "    pass\n",
    "\n",
    "# Function to transfer data to Postgres\n",
    "def df_data_to_postgres(df):\n",
    "    # TODO: Implement the logic to transfer data to Postgres\n",
    "    pass\n"
   ]
  },
  {
   "cell_type": "code",
   "execution_count": null,
   "id": "54839f45",
   "metadata": {},
   "outputs": [],
   "source": [
    "\n",
    "# Define DataFrame schema based on the provided database structure\n",
    "metadata_columns = [\n",
    "    'category',\n",
    "    'creator',\n",
    "    'description',\n",
    "    'file_size',\n",
    "    'filename',\n",
    "    'frame_rate',\n",
    "    'frame_src_path',\n",
    "    'gpt3_embeddings',\n",
    "    'has_audio',\n",
    "    'index_number',\n",
    "    'keywords',\n",
    "    'original_resolution',\n",
    "    'resnet50_embeddings',\n",
    "    'src_path',\n",
    "    'summary',\n",
    "    'type'\n",
    "]\n",
    "\n",
    "# Initialize the DataFrame\n",
    "metadata_df = pd.DataFrame(columns=metadata_columns)\n"
   ]
  },
  {
   "cell_type": "code",
   "execution_count": null,
   "id": "7fcac910",
   "metadata": {},
   "outputs": [],
   "source": [
    "\n",
    "# Functions for transferring data to Weaviate and Postgres\n",
    "def df_to_weaviate(df):\n",
    "    # TODO: Implement function to transfer data from DataFrame to Weaviate\n",
    "    pass\n",
    "\n",
    "def df_to_postgres(df):\n",
    "    # TODO: Implement function to transfer data from DataFrame to Postgres\n",
    "    pass\n"
   ]
  }
 ],
 "metadata": {},
 "nbformat": 4,
 "nbformat_minor": 5
}
