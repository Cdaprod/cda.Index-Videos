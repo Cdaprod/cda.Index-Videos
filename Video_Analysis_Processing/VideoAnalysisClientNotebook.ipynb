{
 "cells": [
  {
   "cell_type": "code",
   "execution_count": null,
   "id": "67be2c32",
   "metadata": {},
   "outputs": [],
   "source": [
    "\n",
    "import requests\n",
    "import json\n"
   ]
  },
  {
   "cell_type": "code",
   "execution_count": null,
   "id": "dfd71a86",
   "metadata": {},
   "outputs": [],
   "source": [
    "\n",
    "def call_video_analysis_api(video_path, task_type):\n",
    "    api_url = \"http://flask_server_address/api/v1/video_analysis\"  # Replace with your Flask server address\n",
    "    payload = {\n",
    "        \"video_path\": video_path,\n",
    "        \"task_type\": task_type\n",
    "    }\n",
    "    response = requests.post(api_url, json=payload)\n",
    "    if response.status_code == 200:\n",
    "        return json.loads(response.text)\n",
    "    else:\n",
    "        return f\"Error: {response.status_code}\"\n"
   ]
  },
  {
   "cell_type": "code",
   "execution_count": null,
   "id": "161ca6af",
   "metadata": {},
   "outputs": [],
   "source": [
    "\n",
    "# Example usage\n",
    "video_path = \"/path/to/video.mp4\"  # Replace with your video path\n",
    "task_type = \"Extract Metadata\"  # or \"Extract Frames\"\n",
    "\n",
    "result = call_video_analysis_api(video_path, task_type)\n",
    "print(\"Result:\", result)\n"
   ]
  }
 ],
 "metadata": {},
 "nbformat": 4,
 "nbformat_minor": 5
}
